{
 "cells": [
  {
   "cell_type": "code",
   "execution_count": 8,
   "metadata": {},
   "outputs": [],
   "source": [
    "import pandas as pd\n",
    "import math\n",
    "import string\n",
    "import re"
   ]
  },
  {
   "cell_type": "code",
   "execution_count": 144,
   "metadata": {},
   "outputs": [
    {
     "name": "stdout",
     "output_type": "stream",
     "text": [
      "174103751\n"
     ]
    }
   ],
   "source": [
    "# part 1 solution\n",
    "pattern = \"mul\\([0-9]{1,3},[0-9]{1,3}\\)\"\n",
    "\n",
    "with open('input_3.txt', 'r') as file:\n",
    "    data = file.read().rstrip()\n",
    "total = 0\n",
    "mul_list = re.findall(pattern, data)\n",
    "for j in mul_list:\n",
    "    nums_list = re.findall('\\d+',j)\n",
    "    total += int(nums_list[0]) * int(nums_list[1])\n",
    "print(total)"
   ]
  },
  {
   "cell_type": "code",
   "execution_count": 143,
   "metadata": {},
   "outputs": [
    {
     "name": "stdout",
     "output_type": "stream",
     "text": [
      "100411201\n"
     ]
    }
   ],
   "source": [
    "# part 2 solution\n",
    "with open('input_3.txt', 'r') as file:\n",
    "    data = file.read().rstrip()\n",
    "total = 0\n",
    "edited_data= re.sub(r\"don't\\(\\).*?(?=do\\(\\)|$)\", \"\", data, flags=re.DOTALL)\n",
    "mul_list = re.findall(pattern, edited_data)\n",
    "for j in mul_list:\n",
    "    nums_list = re.findall('\\d+',j)\n",
    "    total += int(nums_list[0]) * int(nums_list[1])\n",
    "print(total)\n"
   ]
  }
 ],
 "metadata": {
  "kernelspec": {
   "display_name": "base",
   "language": "python",
   "name": "python3"
  },
  "language_info": {
   "codemirror_mode": {
    "name": "ipython",
    "version": 3
   },
   "file_extension": ".py",
   "mimetype": "text/x-python",
   "name": "python",
   "nbconvert_exporter": "python",
   "pygments_lexer": "ipython3",
   "version": "3.8.5"
  }
 },
 "nbformat": 4,
 "nbformat_minor": 2
}
