{
 "cells": [
  {
   "cell_type": "code",
   "execution_count": 1,
   "metadata": {},
   "outputs": [],
   "source": [
    "import pandas as pd\n",
    "import math\n",
    "import string\n",
    "import itertools"
   ]
  },
  {
   "cell_type": "code",
   "execution_count": 2,
   "metadata": {},
   "outputs": [],
   "source": [
    "base_df = pd.read_csv('input_1.txt',header=None)\n",
    "base_df = pd.DataFrame(base_df)"
   ]
  },
  {
   "cell_type": "code",
   "execution_count": 15,
   "metadata": {},
   "outputs": [],
   "source": [
    "split_df = base_df[0].str.split('   ', expand=True)\n",
    "lst_1 = list(split_df[0])\n",
    "lst_2 = list(split_df[1])"
   ]
  },
  {
   "cell_type": "code",
   "execution_count": 16,
   "metadata": {},
   "outputs": [],
   "source": [
    "for i in range(len(lst_1)): lst_1[i] = int(lst_1[i])\n",
    "for i in range(len(lst_2)): lst_2[i] = int(lst_2[i])\n",
    "lst_1.sort()\n",
    "lst_2.sort()"
   ]
  },
  {
   "cell_type": "code",
   "execution_count": 18,
   "metadata": {},
   "outputs": [
    {
     "name": "stdout",
     "output_type": "stream",
     "text": [
      "1834060\n"
     ]
    }
   ],
   "source": [
    "#part 1 solution\n",
    "total = 0\n",
    "for i in range(len(lst_1)): total += abs(lst_1[i] - lst_2[i])\n",
    "print(total)\n",
    "#part 2 solution\n",
    "total_2 = 0\n",
    "for i in lst_1: total_2 += lst_2.count(i) * i\n",
    "print(total_2)"
   ]
  }
 ],
 "metadata": {
  "kernelspec": {
   "display_name": "base",
   "language": "python",
   "name": "python3"
  },
  "language_info": {
   "codemirror_mode": {
    "name": "ipython",
    "version": 3
   },
   "file_extension": ".py",
   "mimetype": "text/x-python",
   "name": "python",
   "nbconvert_exporter": "python",
   "pygments_lexer": "ipython3",
   "version": "2020.11.undefined"
  }
 },
 "nbformat": 4,
 "nbformat_minor": 2
}
