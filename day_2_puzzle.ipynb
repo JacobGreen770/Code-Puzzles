{
 "cells": [
  {
   "cell_type": "code",
   "execution_count": 1,
   "metadata": {},
   "outputs": [],
   "source": [
    "import pandas as pd\n",
    "import math\n",
    "import string"
   ]
  },
  {
   "cell_type": "code",
   "execution_count": 2,
   "metadata": {},
   "outputs": [],
   "source": [
    "base_df = pd.read_csv('input_2.txt',header=None)\n",
    "base_df = pd.DataFrame(base_df)"
   ]
  },
  {
   "cell_type": "code",
   "execution_count": 3,
   "metadata": {},
   "outputs": [],
   "source": [
    "split_df = base_df[0].str.split(' ', expand=True)"
   ]
  },
  {
   "cell_type": "code",
   "execution_count": null,
   "metadata": {},
   "outputs": [],
   "source": [
    "# part 1 solution\n",
    "def SafeTest(seq,bounds):\n",
    "    for i in range(1, len(seq)):\n",
    "        if seq[i-1] - seq[i] not in bounds:\n",
    "                return False\n",
    "    return True\n",
    "\n",
    "total_safe = 0\n",
    "pos_bounds = range(1, 4)\n",
    "neg_bounds = range(-3, 0)\n",
    "for i in range(len(split_df)):\n",
    "    holder = [int(x) for x in list(split_df.iloc[i]) if x is not None]\n",
    "    if SafeTest(holder,pos_bounds): total_safe +=1\n",
    "    elif SafeTest(holder,neg_bounds): total_safe +=1\n",
    "print(total_safe)"
   ]
  },
  {
   "cell_type": "code",
   "execution_count": null,
   "metadata": {},
   "outputs": [
    {
     "name": "stdout",
     "output_type": "stream",
     "text": [
      "343\n"
     ]
    }
   ],
   "source": [
    "# part 2 solution\n",
    "\n",
    "total_safe = 0\n",
    "for i in range(len(split_df)):\n",
    "    holder = [int(x) for x in list(split_df.iloc[i]) if x is not None]\n",
    "    if SafeTest(holder,pos_bounds): total_safe +=1\n",
    "    elif SafeTest(holder,neg_bounds): total_safe +=1\n",
    "    else:\n",
    "        tracker_val = False\n",
    "        for j in range(len(holder)):\n",
    "            if SafeTest(holder[:j] + holder[j+1:],pos_bounds): tracker_val = True\n",
    "            elif SafeTest(holder[:j] + holder[j+1:],neg_bounds): tracker_val = True\n",
    "            #print(str(holder)+str(holder[:i] + holder[i+1:])+str(tracker_val))\n",
    "    if tracker_val: total_safe +=1        \n",
    "print(total_safe)"
   ]
  }
 ],
 "metadata": {
  "kernelspec": {
   "display_name": "base",
   "language": "python",
   "name": "python3"
  },
  "language_info": {
   "codemirror_mode": {
    "name": "ipython",
    "version": 3
   },
   "file_extension": ".py",
   "mimetype": "text/x-python",
   "name": "python",
   "nbconvert_exporter": "python",
   "pygments_lexer": "ipython3",
   "version": "3.8.5"
  }
 },
 "nbformat": 4,
 "nbformat_minor": 2
}
